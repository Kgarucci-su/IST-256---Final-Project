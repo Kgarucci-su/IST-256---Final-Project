{
 "cells": [
  {
   "cell_type": "code",
   "execution_count": 5,
   "metadata": {},
   "outputs": [
    {
     "name": "stdout",
     "output_type": "stream",
     "text": [
      "If the map returns the incorrect city, try typing the full state name. (ex. Albany, New York)\n",
      "Please enter your city and state (ex. Syracuse, NY): Syracuse\n",
      "\n",
      "\n",
      "Click the markers on the map to see the name of the top-rated restaurant.\n",
      "The reviews for each restaurant are out of '5'.\n"
     ]
    },
    {
     "data": {
      "text/html": [
       "<div style=\"width:100%;\"><div style=\"position:relative;width:100%;height:0;padding-bottom:60%;\"><iframe src=\"data:text/html;charset=utf-8;base64,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\" style=\"position:absolute;width:100%;height:100%;left:0;top:0;border:none !important;\" allowfullscreen webkitallowfullscreen mozallowfullscreen></iframe></div></div>"
      ],
      "text/plain": [
       "<folium.folium.Map at 0x1e292133780>"
      ]
     },
     "execution_count": 5,
     "metadata": {},
     "output_type": "execute_result"
    }
   ],
   "source": [
    "#Before this program can be run, the user must first install the Zomato sdk to the Anaconda Prompt.\n",
    "#Use the command 'pip install zomato-sdk' to prepare for the program.\n",
    "\n",
    "from zomato import Zomato\n",
    "import requests\n",
    "import json\n",
    "import pandas as pd\n",
    "import folium\n",
    "import warnings\n",
    "warnings.filterwarnings('ignore')\n",
    "\n",
    "#The code \"headers = {'Accept': 'application/json', 'user-key': 'bc7aaa1e5521c5a02ed53a89a891ae20'}\"\n",
    "#was translated from curl.trillworks.com\n",
    "#An individual that wants to use this program on their own system should generate their own user-key from the Zomato API.\n",
    "\n",
    "def citylookup(city):\n",
    "    headers = {'Accept': 'application/json', 'user-key': 'bc7aaa1e5521c5a02ed53a89a891ae20'}\n",
    "    city_url = 'https://developers.zomato.com/api/v2.1/cities?q=' + city\n",
    "    city_response = requests.get(city_url, headers=headers).json()\n",
    "    return city_response\n",
    "\n",
    "def getcityid(city):\n",
    "    city_func_response = citylookup(city)\n",
    "    city_id = city_func_response['location_suggestions'][0]['id']\n",
    "    city_id = str(city_id)\n",
    "    return city_id\n",
    "\n",
    "def getlocationdetails(city_id):\n",
    "    headers = {'Accept': 'application/json', 'user-key': 'bc7aaa1e5521c5a02ed53a89a891ae20'}\n",
    "    location_details_url = 'https://developers.zomato.com/api/v2.1/location_details?entity_id=' + city_id + '&entity_type=city'\n",
    "    location_details_response = requests.get(location_details_url, headers=headers).json()\n",
    "    return location_details_response\n",
    "\n",
    "try:\n",
    "    print(\"If the map returns the incorrect city, try typing the full state name. (ex. Albany, New York)\")\n",
    "    city = input(\"Please enter your city and state (ex. Syracuse, NY): \")\n",
    "    print(\"\\n\\nClick the markers on the map to see the name of the top-rated restaurant.\")\n",
    "    print(\"The reviews for each restaurant are out of '5'.\")\n",
    "    city_id = getcityid(city)\n",
    "    city_details = getlocationdetails(city_id)\n",
    "    i = 0\n",
    "    restaurant_list = []\n",
    "    lat_list = []\n",
    "    long_list = []\n",
    "    review_list = []\n",
    "\n",
    "    for item in city_details['best_rated_restaurant']:\n",
    "        restaurant_list.append(city_details['best_rated_restaurant'][i]['restaurant']['name'])\n",
    "        lat_list.append(city_details['best_rated_restaurant'][i]['restaurant']['location']['latitude'])\n",
    "        long_list.append(city_details['best_rated_restaurant'][i]['restaurant']['location']['longitude'])\n",
    "        review_list.append(city_details['best_rated_restaurant'][i]['restaurant']['user_rating']['aggregate_rating'])\n",
    "        i = i + 1\n",
    "\n",
    "    for i in range(len(lat_list)):\n",
    "        lat_list[i] = float(lat_list[i])\n",
    "    for i in range(len(long_list)):\n",
    "        long_list[i] = float(long_list[i])\n",
    "    \n",
    "#The first 3 exceptions were taken directly from CCL 11 in Michael Fudge's class.    \n",
    "    \n",
    "except json.decoder.JSONDecodeError as e: \n",
    "    print(\"ERROR: Cannot decode the response into json\")\n",
    "    print(\"DETAILS\", e)\n",
    "\n",
    "except requests.exceptions.HTTPError as e:\n",
    "    print(\"ERROR: Response was not ok.\")\n",
    "    print(\"DETAILS:\", e)\n",
    "        \n",
    "except requests.exceptions.RequestException as e: \n",
    "    print(\"ERROR: Cannot connect to the site at this time.\")\n",
    "    print(\"DETAILS:\", e)\n",
    "    \n",
    "except:\n",
    "    print(\"\\nSorry. The results could not be processed.\")\n",
    "    print(\"Please check that you spelled the city correctly, or type in a different city.\")   \n",
    "    \n",
    "restaurants = pd.Series(data = restaurant_list)\n",
    "latitudes = pd.Series(data = lat_list)\n",
    "longitudes = pd.Series(data = long_list)\n",
    "user_ratings = pd.Series(data = review_list)\n",
    "city_dict = {'City': restaurants, 'Latitude': latitudes, 'Longitude': longitudes, 'Average Rating': user_ratings}\n",
    "city_df = pd.DataFrame(city_dict)    \n",
    "\n",
    "first_lat = float(city_df['Latitude'][0])\n",
    "first_long = float(city_df['Longitude'][0])\n",
    "map_center = (first_lat, first_long)\n",
    "map = folium.Map(location = map_center, zoom_start = 12)\n",
    "for row in city_df.to_records():\n",
    "    pos = (row['Latitude'],row['Longitude'])\n",
    "    marker = folium.Marker(location = pos, popup = folium.Popup(row['City'] + ' -- Average Rating: ' + row['Average Rating'], parse_html=True))\n",
    "    map.add_children(marker)\n",
    "map"
   ]
  }
 ],
 "metadata": {
  "anaconda-cloud": {},
  "kernelspec": {
   "display_name": "Python 3",
   "language": "python",
   "name": "python3"
  },
  "language_info": {
   "codemirror_mode": {
    "name": "ipython",
    "version": 3
   },
   "file_extension": ".py",
   "mimetype": "text/x-python",
   "name": "python",
   "nbconvert_exporter": "python",
   "pygments_lexer": "ipython3",
   "version": "3.6.1"
  }
 },
 "nbformat": 4,
 "nbformat_minor": 1
}
